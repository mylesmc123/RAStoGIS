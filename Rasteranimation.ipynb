{
 "cells": [
  {
   "cell_type": "code",
   "execution_count": 3,
   "metadata": {},
   "outputs": [],
   "source": [
    "import rasterio\n",
    "import geopandas as gpd\n",
    "# import dask.array as da\n",
    "# from dask_rasterio import read_raster, write_raster\n",
    "import os\n",
    "import fnmatch\n",
    "\n",
    "input_dir=r\"Z:\\LWI_StageIV\\test\"\n",
    "crop_shp = gpd.read_file(r\"Z:\\GIS\\StageIv Boundary.shp\")\n",
    "img_dir = os.path.join(input_dir, 'img')\n",
    "projected_dir = os.path.join(input_dir, 'projected')\n",
    "\n",
    "merge_dir=[]\n",
    "for filename in fnmatch.filter(os.listdir(input_dir),'*.01h'): \n",
    "    merge_dir.append((os.path.join(input_dir, filename)))\n",
    "\n",
    "merge_dir.sort()"
   ]
  },
  {
   "cell_type": "code",
   "execution_count": 4,
   "metadata": {},
   "outputs": [],
   "source": [
    "# import xarray as xr\n",
    "import numpy as np\n",
    "from rasterio.warp import calculate_default_transform, reproject, Resampling\n",
    "import earthpy.spatial as es\n",
    "# raster = merge_dir[20]\n",
    "dst_crs = 'EPSG:4326'\n",
    "arrayList = []\n",
    "for raster in merge_dir:\n",
    "    # print(f'adding {raster} to dask array list: map2array')\n",
    "    src = rasterio.open(raster)\n",
    "    transform, width, height = calculate_default_transform(\n",
    "        src.crs, dst_crs, src.width, src.height, *src.bounds)\n",
    "    kwargs = src.meta.copy()\n",
    "    kwargs.update({\n",
    "        'crs': dst_crs,\n",
    "        'transform': transform,\n",
    "        'width': width,\n",
    "        'height': height\n",
    "    })\n",
    "    projected_raster = projected_dir + '\\\\' + raster.split(\"\\\\\")[-1]\n",
    "    with rasterio.open(projected_raster, 'w', **kwargs) as dst:\n",
    "        for i in range(1, src.count + 1):\n",
    "            reproject(\n",
    "                source=rasterio.band(src, i),\n",
    "                destination=rasterio.band(dst, i),\n",
    "                src_transform=src.transform,\n",
    "                src_crs=src.crs,\n",
    "                dst_transform=transform,\n",
    "                dst_crs=dst_crs,\n",
    "                resampling=Resampling.nearest)\n",
    "    src_projected = rasterio.open(projected_raster)\n",
    "    cropped_raster, cropped_meta = es.crop_image(src_projected, crop_shp)\n",
    "    # array = src.read(1)\n",
    "    array = cropped_raster\n",
    "    array[array==0] = np.nan    \n",
    "    array[array==9999] = np.nan\n",
    "    arrayList.append(array)\n",
    "    src.close()\n",
    "    src_projected.close()\n"
   ]
  },
  {
   "cell_type": "code",
   "execution_count": 5,
   "metadata": {},
   "outputs": [
    {
     "name": "stderr",
     "output_type": "stream",
     "text": [
      "C:\\Tools\\Anaconda3\\envs\\py37\\lib\\site-packages\\ipykernel_launcher.py:15: MatplotlibDeprecationWarning: Auto-removal of grids by pcolor() and pcolormesh() is deprecated since 3.5 and will be removed two minor releases later; please call grid(False) first.\n",
      "  from ipykernel import kernelapp as app\n"
     ]
    },
    {
     "data": {
      "text/plain": [
       "<matplotlib.colorbar.Colorbar at 0x18efa9910c8>"
      ]
     },
     "execution_count": 5,
     "metadata": {},
     "output_type": "execute_result"
    },
    {
     "data": {
      "image/png": "[encoded data removed]",
      "text/plain": [
       "<Figure size 432x288 with 2 Axes>"
      ]
     },
     "metadata": {},
     "output_type": "display_data"
    }
   ],
   "source": [
    "from rasterio.plot import show\n",
    "import numpy as np\n",
    "import matplotlib.pyplot as plt\n",
    "import seaborn as sns\n",
    "sns.set_style(\"white\")\n",
    "sns.set(font_scale=1.5)\n",
    "\n",
    "\n",
    "\n",
    "plt.imshow(  array.squeeze(), \n",
    "                cmap='rainbow', \n",
    "                vmin=0,\n",
    "                vmax=53)\n",
    "# pyplot.show()\n",
    "plt.colorbar()"
   ]
  },
  {
   "cell_type": "code",
   "execution_count": 8,
   "metadata": {},
   "outputs": [],
   "source": [
    "import earthpy.plot as ep\n",
    "for i, array in enumerate(arrayList):\n",
    "    # plt.imshow(  array.squeeze(), \n",
    "    #             cmap='rainbow', \n",
    "    #             vmin=0,\n",
    "    #             vmax=53)\n",
    "    # plt.colorbar()\n",
    "    \n",
    "    fig, ax = plt.subplots(figsize = (20, 10))\n",
    "\n",
    "    im = ax.imshow(array.squeeze(), cmap='rainbow')\n",
    "# plt.plot(cropped_raster[1:])\n",
    "# world.geometry.boundary.plot(ax=ax, color=None, alpha = 1, edgecolor='black', linewidth = 1.0)\n",
    "\n",
    "    ep.colorbar(im)\n",
    "    title = merge_dir[i].split('\\\\')[-1]\n",
    "    ax.set(title=f\"{title} Cumulative Precip (mm)\")\n",
    "    ax.set_axis_off()\n",
    "    img_filename = img_dir + f'\\\\{title}.png'\n",
    "    plt.savefig((img_filename))\n",
    "    plt.close()   "
   ]
  },
  {
   "cell_type": "code",
   "execution_count": null,
   "metadata": {},
   "outputs": [],
   "source": [
    "import imageio\n",
    "\n",
    "imgList=[]\n",
    "for img_file in fnmatch.filter(os.listdir(img_dir),'*.png'): \n",
    "    imgList.append((os.path.join(img_dir, img_file)))\n",
    "\n",
    "imgList.sort()\n",
    "images = []\n",
    "for img in imgList:\n",
    "    images.append(imageio.imread(img))\n",
    "imageio.mimsave('movie.gif', images)"
   ]
  }
 ],
 "metadata": {
  "interpreter": {
   "hash": "2f15906461ed2c6aeb3fb67f9bbf1f25da63cbe086a900344370033aca09f5b0"
  },
  "kernelspec": {
   "display_name": "Python 3.7.12 64-bit ('py37': conda)",
   "language": "python",
   "name": "python3"
  },
  "language_info": {
   "codemirror_mode": {
    "name": "ipython",
    "version": 3
   },
   "file_extension": ".py",
   "mimetype": "text/x-python",
   "name": "python",
   "nbconvert_exporter": "python",
   "pygments_lexer": "ipython3",
   "version": "3.7.12"
  },
  "orig_nbformat": 4
 },
 "nbformat": 4,
 "nbformat_minor": 2
}
