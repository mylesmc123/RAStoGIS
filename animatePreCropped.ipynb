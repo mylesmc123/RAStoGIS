{
 "cells": [
  {
   "cell_type": "code",
   "execution_count": 19,
   "metadata": {},
   "outputs": [],
   "source": [
    "import rasterio\n",
    "import dask.array as da\n",
    "from dask_rasterio import read_raster, write_raster\n",
    "import os\n",
    "import fnmatch\n",
    "import numpy as np\n",
    "import geopandas as gpd\n",
    "import shapely\n",
    "from rasterio.warp import calculate_default_transform, reproject, Resampling\n",
    "import earthpy.spatial as es\n",
    "import seaborn as sns\n",
    "import matplotlib.pyplot as plt\n",
    "import earthpy.plot as ep\n",
    "import imageio\n",
    "import rasterstats"
   ]
  },
  {
   "cell_type": "code",
   "execution_count": 13,
   "metadata": {},
   "outputs": [],
   "source": [
    "input_dir = r'Z:\\LWI_StageIV\\test'\n",
    "outputDir= r'Z:\\LWI_StageIV\\!Accumulated'\n",
    "cropped_dir = os.path.join(input_dir, 'cropped')\n",
    "img_dir = os.path.join(cropped_dir, 'img')\n",
    "outputFilename = input_dir.split('\\\\')[-1]+'-Inc-Cropped.gif'\n",
    "sns.set_style(\"white\")\n",
    "sns.set(font_scale=1.5)\n",
    "\n",
    "isExist_img = os.path.exists(img_dir)\n",
    "if not isExist_img:\n",
    "    os.makedirs(img_dir)"
   ]
  },
  {
   "cell_type": "code",
   "execution_count": 14,
   "metadata": {},
   "outputs": [],
   "source": [
    "merge_dir=[]\n",
    "for filename in fnmatch.filter(os.listdir(cropped_dir),'*.01h'): \n",
    "    merge_dir.append((os.path.join(cropped_dir, filename)))\n",
    "\n",
    "merge_dir.sort()"
   ]
  },
  {
   "cell_type": "code",
   "execution_count": 28,
   "metadata": {},
   "outputs": [
    {
     "data": {
      "text/plain": [
       "{'Z:\\\\LWI_StageIV\\\\test\\\\cropped\\\\ST4.2005082000.01h': [{'min': 0.0,\n",
       "   'max': 19.75,\n",
       "   'mean': 0.028063334514947417,\n",
       "   'count': 16926,\n",
       "   'nodata': 21.0,\n",
       "   'percentMissing': 0.12}],\n",
       " 'Z:\\\\LWI_StageIV\\\\test\\\\cropped\\\\ST4.2005082001.01h': [{'min': 0.0,\n",
       "   'max': 5.0,\n",
       "   'mean': 0.00427804331150056,\n",
       "   'count': 16947,\n",
       "   'nodata': 0.0,\n",
       "   'percentMissing': 0.0}],\n",
       " 'Z:\\\\LWI_StageIV\\\\test\\\\cropped\\\\ST4.2005082002.01h': [{'min': 0.0,\n",
       "   'max': 4.0,\n",
       "   'mean': 0.0005900749395173187,\n",
       "   'count': 16947,\n",
       "   'nodata': 0.0,\n",
       "   'percentMissing': 0.0}]}"
      ]
     },
     "execution_count": 28,
     "metadata": {},
     "output_type": "execute_result"
    }
   ],
   "source": [
    "arrayList = []\n",
    "rasterStats = {}\n",
    "for raster in merge_dir:\n",
    "        # print(f'adding {raster} to dask array list: map2array')\n",
    "        src = rasterio.open(raster)\n",
    "        array = src.read(1)\n",
    "        # array[array==0] = np.nan    \n",
    "        array[array==9999] = np.nan\n",
    "        arrayList.append(array)\n",
    "        \n",
    "        # Get Rasterstats\n",
    "        stats = rasterstats.zonal_stats(r\"Z:\\GIS\\StageIv Boundary.shp\", raster, stats=['min', 'max','mean', 'count', 'nodata'])\n",
    "        percentMissing = stats[0]['nodata']/stats[0]['count']\n",
    "        percentMissing = round(percentMissing * 100, 2)\n",
    "        percentMissing\n",
    "        stats[0]['percentMissing'] = percentMissing\n",
    "        rasterStats[raster] = stats\n",
    "        src.close()\n",
    "rasterStats"
   ]
  },
  {
   "cell_type": "code",
   "execution_count": 33,
   "metadata": {},
   "outputs": [],
   "source": [
    "# Get the biggest max for the plot colorBar maxValue to be.\n",
    "bigMax = 0\n",
    "for raster in rasterStats:\n",
    "    max = rasterStats[raster][0]['max']\n",
    "    if (max > bigMax):\n",
    "        bigMax = max"
   ]
  },
  {
   "cell_type": "code",
   "execution_count": 44,
   "metadata": {},
   "outputs": [
    {
     "name": "stderr",
     "output_type": "stream",
     "text": [
      "C:\\Tools\\Anaconda3\\envs\\py37\\lib\\site-packages\\ipykernel_launcher.py:30: MatplotlibDeprecationWarning: Auto-removal of grids by pcolor() and pcolormesh() is deprecated since 3.5 and will be removed two minor releases later; please call grid(False) first.\n",
      "C:\\Tools\\Anaconda3\\envs\\py37\\lib\\site-packages\\ipykernel_launcher.py:30: MatplotlibDeprecationWarning: Auto-removal of grids by pcolor() and pcolormesh() is deprecated since 3.5 and will be removed two minor releases later; please call grid(False) first.\n",
      "C:\\Tools\\Anaconda3\\envs\\py37\\lib\\site-packages\\ipykernel_launcher.py:30: MatplotlibDeprecationWarning: Auto-removal of grids by pcolor() and pcolormesh() is deprecated since 3.5 and will be removed two minor releases later; please call grid(False) first.\n"
     ]
    }
   ],
   "source": [
    "for i, array in enumerate(arrayList):\n",
    "    # print (f'writing projected Raster file {projected_raster}')\n",
    "    # fig, ax = plt.subplots(figsize = (20, 10))\n",
    "    # im = ax.imshow(array.squeeze(), cmap='rainbow')\n",
    "    # ep.colorbar(im)\n",
    "    title = merge_dir[i].split('\\\\')[-1]\n",
    "    # ax.set(title=f\"{title} Hourly Precip (mm)\")\n",
    "    # ax.set_axis_off()\n",
    "    img_filename = img_dir + f'\\\\{title}.png'\n",
    "    # plt.savefig((img_filename))\n",
    "    # plt.close()\n",
    "\n",
    "    crop_shp = gpd.read_file(r\"Z:\\GIS\\StageIv Boundary.shp\")\n",
    "    fig, ax = plt.subplots(figsize=(20, 15))\n",
    "    la = gpd.read_file(\"Z:\\GIS\\Louisiana.shp\")\n",
    "    bbox = la.total_bounds\n",
    "    la_extent=bbox[[0,2,1,3]]\n",
    "\n",
    "    bbox_lwi = crop_shp.total_bounds\n",
    "    lwi_extent = bbox_lwi[[0,2,1,3]]\n",
    "\n",
    "    # fn = r\"Z:\\LWI_StageIV\\Hurricane Katrina 2005\\projected\\ST4.2005082913.01h\"\n",
    "    # title = fn.split('\\\\')[-1]\n",
    "    # raster = rasterio.open(fn)\n",
    "\n",
    "    # raster_window = raster.window(*bbox_lwi)\n",
    "    # array = raster.read(1, window=raster_window)\n",
    "    array[array==9999] = np.nan\n",
    "    im = plt.imshow(array, extent=lwi_extent, cmap='rainbow', vmax=bigMax)\n",
    "    cb = plt.colorbar(im, shrink=.6)\n",
    "    ax.set(title=f\"{title} Incremental Precip (mm)\")\n",
    "    ax.set_axis_off()\n",
    "    la.boundary.plot(ax=plt.gca(), color='darkgrey')\n",
    "    plt.savefig((img_filename))\n",
    "    plt.close()\n"
   ]
  },
  {
   "cell_type": "code",
   "execution_count": null,
   "metadata": {},
   "outputs": [],
   "source": [
    "print (f'Writing plot images to {img_dir}')\n",
    "for i, array in enumerate(arrayList):\n",
    "    # print (f'writing projected Raster file {projected_raster}')\n",
    "    fig, ax = plt.subplots(figsize = (20, 10))\n",
    "    im = ax.imshow(array.squeeze(), cmap='rainbow')\n",
    "    ep.colorbar(im)\n",
    "    title = merge_dir[i].split('\\\\')[-1]\n",
    "    ax.set(title=f\"{title} Hourly Precip (mm)\")\n",
    "    ax.set_axis_off()\n",
    "    img_filename = img_dir + f'\\\\{title}.png'\n",
    "    plt.savefig((img_filename))\n",
    "    plt.close()"
   ]
  },
  {
   "cell_type": "code",
   "execution_count": null,
   "metadata": {},
   "outputs": [],
   "source": [
    "crop_shp = gpd.read_file(r\"Z:\\GIS\\StageIv Boundary.shp\")\n",
    "fig, ax = plt.subplots(figsize=(15, 15))\n",
    "la = gpd.read_file(\"Z:\\GIS\\Louisiana.shp\")\n",
    "bbox = la.total_bounds\n",
    "la_extent=bbox[[0,2,1,3]]\n",
    "\n",
    "bbox_lwi = crop_shp.total_bounds\n",
    "lwi_extent = bbox_lwi[[0,2,1,3]]\n",
    "fn = r\"Z:\\LWI_StageIV\\Hurricane Katrina 2005\\projected\\ST4.2005082913.01h\"\n",
    "title = fn.split('\\\\')[-1]\n",
    "raster = rasterio.open(fn)\n",
    "\n",
    "raster_window = raster.window(*bbox_lwi)\n",
    "array = raster.read(1, window=raster_window)\n",
    "array[array==raster.nodata] = np.nan\n",
    "im = plt.imshow(array, extent=lwi_extent, cmap='rainbow')\n",
    "cb = plt.colorbar(im, shrink=.6)\n",
    "ax.set(title=f\"{title} Cumulative Precip (mm)\")\n",
    "ax.set_axis_off()\n",
    "la.boundary.plot(ax=plt.gca(), color='darkgrey')"
   ]
  }
 ],
 "metadata": {
  "interpreter": {
   "hash": "2f15906461ed2c6aeb3fb67f9bbf1f25da63cbe086a900344370033aca09f5b0"
  },
  "kernelspec": {
   "display_name": "Python 3.7.12 64-bit ('py37': conda)",
   "language": "python",
   "name": "python3"
  },
  "language_info": {
   "codemirror_mode": {
    "name": "ipython",
    "version": 3
   },
   "file_extension": ".py",
   "mimetype": "text/x-python",
   "name": "python",
   "nbconvert_exporter": "python",
   "pygments_lexer": "ipython3",
   "version": "3.7.12"
  },
  "orig_nbformat": 4
 },
 "nbformat": 4,
 "nbformat_minor": 2
}
