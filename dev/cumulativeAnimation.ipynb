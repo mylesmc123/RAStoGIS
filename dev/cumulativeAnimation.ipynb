{
 "cells": [
  {
   "cell_type": "code",
   "execution_count": 9,
   "metadata": {},
   "outputs": [],
   "source": [
    "import rasterio\n",
    "import dask.array as da\n",
    "from dask_rasterio import read_raster, write_raster\n",
    "import os\n",
    "import fnmatch\n",
    "import numpy as np\n",
    "import geopandas as gpd\n",
    "from rasterio.warp import calculate_default_transform, reproject, Resampling\n",
    "import earthpy.spatial as es\n",
    "import seaborn as sns\n",
    "import matplotlib.pyplot as plt\n",
    "import earthpy.plot as ep\n",
    "import imageio\n",
    "import rasterstats"
   ]
  },
  {
   "cell_type": "code",
   "execution_count": 10,
   "metadata": {},
   "outputs": [],
   "source": [
    "# Directory where storms are located.\n",
    "input_dir = r'Z:\\LWI_StageIV\\test\\cropped'\n",
    "output_dir= r'Z:\\LWI_StageIV\\test\\cropped\\iterate'\n",
    "movie_dir = 'Z:\\LWI_StageIV\\!Accumulated'\n",
    "\n",
    "# Function inputs\n",
    "crop_shp = gpd.read_file(r\"Z:\\GIS\\StageIv Boundary.shp\")\n",
    "la_shp = gpd.read_file(\"Z:\\GIS\\Louisiana.shp\")\n",
    "# dst_crs = 'EPSG:4326'\n",
    "img_dir = os.path.join(output_dir, 'img')\n",
    "stormName = input_dir.split('\\\\')[-2]\n",
    "movieFilename = os.path.join(movie_dir, f'{stormName}-accum.gif')\n",
    "accumRaster = os.path.join(movie_dir, f'{stormName}-cropped.tif')"
   ]
  },
  {
   "cell_type": "code",
   "execution_count": 11,
   "metadata": {},
   "outputs": [],
   "source": [
    "def crop_raster(src, crop_shp):\n",
    "    cropped_raster, cropped_meta = es.crop_image(src, crop_shp)\n",
    "    array = cropped_raster\n",
    "    array[array==0] = np.nan    \n",
    "    array[array==9999] = np.nan\n",
    "    src.close()\n",
    "    return array\n",
    "\n",
    "def create_image(array, title, img_dir, crop_shp, la_shp, bigMax):\n",
    "    img_filename = img_dir + f'\\\\{title}.png'\n",
    "    fig, ax = plt.subplots(figsize=(20, 15))\n",
    "    \n",
    "    bbox = la_shp.total_bounds\n",
    "    la_extent=bbox[[0,2,1,3]]\n",
    "    bbox_lwi = crop_shp.total_bounds\n",
    "    lwi_extent = bbox_lwi[[0,2,1,3]]\n",
    "    array[array==9999] = np.nan\n",
    "    im = plt.imshow(array, extent=lwi_extent, cmap='rainbow', vmin=0, vmax=bigMax)\n",
    "    cb = plt.colorbar(im, shrink=.6)\n",
    "    ax.set(title=title)\n",
    "    ax.set_axis_off()\n",
    "    la_shp.boundary.plot(ax=plt.gca(), color='darkgrey')\n",
    "    plt.savefig((img_filename))\n",
    "    plt.close()\n"
   ]
  },
  {
   "cell_type": "code",
   "execution_count": 14,
   "metadata": {},
   "outputs": [
    {
     "name": "stderr",
     "output_type": "stream",
     "text": [
      "C:\\Tools\\Anaconda3\\envs\\py37\\lib\\site-packages\\ipykernel_launcher.py:19: MatplotlibDeprecationWarning: Auto-removal of grids by pcolor() and pcolormesh() is deprecated since 3.5 and will be removed two minor releases later; please call grid(False) first.\n"
     ]
    },
    {
     "name": "stdout",
     "output_type": "stream",
     "text": [
      "writing Iterative Accumulation Raster to Z:\\LWI_StageIV\\test\\cropped\\iterate\\ST4.2005082001.01h.tif\n"
     ]
    },
    {
     "name": "stderr",
     "output_type": "stream",
     "text": [
      "C:\\Tools\\Anaconda3\\envs\\py37\\lib\\site-packages\\ipykernel_launcher.py:19: MatplotlibDeprecationWarning: Auto-removal of grids by pcolor() and pcolormesh() is deprecated since 3.5 and will be removed two minor releases later; please call grid(False) first.\n"
     ]
    },
    {
     "name": "stdout",
     "output_type": "stream",
     "text": [
      "writing Iterative Accumulation Raster to Z:\\LWI_StageIV\\test\\cropped\\iterate\\ST4.2005082002.01h.tif\n"
     ]
    },
    {
     "name": "stderr",
     "output_type": "stream",
     "text": [
      "C:\\Tools\\Anaconda3\\envs\\py37\\lib\\site-packages\\ipykernel_launcher.py:19: MatplotlibDeprecationWarning: Auto-removal of grids by pcolor() and pcolormesh() is deprecated since 3.5 and will be removed two minor releases later; please call grid(False) first.\n"
     ]
    },
    {
     "name": "stdout",
     "output_type": "stream",
     "text": [
      "writing Iterative Accumulation Raster to Z:\\LWI_StageIV\\test\\cropped\\iterate\\ST4.2005082003.01h.tif\n"
     ]
    },
    {
     "name": "stderr",
     "output_type": "stream",
     "text": [
      "C:\\Tools\\Anaconda3\\envs\\py37\\lib\\site-packages\\ipykernel_launcher.py:19: MatplotlibDeprecationWarning: Auto-removal of grids by pcolor() and pcolormesh() is deprecated since 3.5 and will be removed two minor releases later; please call grid(False) first.\n"
     ]
    },
    {
     "name": "stdout",
     "output_type": "stream",
     "text": [
      "writing Iterative Accumulation Raster to Z:\\LWI_StageIV\\test\\cropped\\iterate\\ST4.2005082004.01h.tif\n"
     ]
    },
    {
     "name": "stderr",
     "output_type": "stream",
     "text": [
      "C:\\Tools\\Anaconda3\\envs\\py37\\lib\\site-packages\\ipykernel_launcher.py:19: MatplotlibDeprecationWarning: Auto-removal of grids by pcolor() and pcolormesh() is deprecated since 3.5 and will be removed two minor releases later; please call grid(False) first.\n"
     ]
    },
    {
     "name": "stdout",
     "output_type": "stream",
     "text": [
      "writing Iterative Accumulation Raster to Z:\\LWI_StageIV\\test\\cropped\\iterate\\ST4.2005082005.01h.tif\n"
     ]
    },
    {
     "name": "stderr",
     "output_type": "stream",
     "text": [
      "C:\\Tools\\Anaconda3\\envs\\py37\\lib\\site-packages\\ipykernel_launcher.py:19: MatplotlibDeprecationWarning: Auto-removal of grids by pcolor() and pcolormesh() is deprecated since 3.5 and will be removed two minor releases later; please call grid(False) first.\n"
     ]
    },
    {
     "name": "stdout",
     "output_type": "stream",
     "text": [
      "writing Iterative Accumulation Raster to Z:\\LWI_StageIV\\test\\cropped\\iterate\\ST4.2005082006.01h.tif\n"
     ]
    },
    {
     "name": "stderr",
     "output_type": "stream",
     "text": [
      "C:\\Tools\\Anaconda3\\envs\\py37\\lib\\site-packages\\ipykernel_launcher.py:19: MatplotlibDeprecationWarning: Auto-removal of grids by pcolor() and pcolormesh() is deprecated since 3.5 and will be removed two minor releases later; please call grid(False) first.\n"
     ]
    },
    {
     "name": "stdout",
     "output_type": "stream",
     "text": [
      "writing Iterative Accumulation Raster to Z:\\LWI_StageIV\\test\\cropped\\iterate\\ST4.2005082007.01h.tif\n"
     ]
    },
    {
     "name": "stderr",
     "output_type": "stream",
     "text": [
      "C:\\Tools\\Anaconda3\\envs\\py37\\lib\\site-packages\\ipykernel_launcher.py:19: MatplotlibDeprecationWarning: Auto-removal of grids by pcolor() and pcolormesh() is deprecated since 3.5 and will be removed two minor releases later; please call grid(False) first.\n"
     ]
    },
    {
     "name": "stdout",
     "output_type": "stream",
     "text": [
      "writing Iterative Accumulation Raster to Z:\\LWI_StageIV\\test\\cropped\\iterate\\ST4.2005082008.01h.tif\n"
     ]
    },
    {
     "name": "stderr",
     "output_type": "stream",
     "text": [
      "C:\\Tools\\Anaconda3\\envs\\py37\\lib\\site-packages\\ipykernel_launcher.py:19: MatplotlibDeprecationWarning: Auto-removal of grids by pcolor() and pcolormesh() is deprecated since 3.5 and will be removed two minor releases later; please call grid(False) first.\n"
     ]
    },
    {
     "name": "stdout",
     "output_type": "stream",
     "text": [
      "writing Iterative Accumulation Raster to Z:\\LWI_StageIV\\test\\cropped\\iterate\\ST4.2005082009.01h.tif\n"
     ]
    },
    {
     "name": "stderr",
     "output_type": "stream",
     "text": [
      "C:\\Tools\\Anaconda3\\envs\\py37\\lib\\site-packages\\ipykernel_launcher.py:19: MatplotlibDeprecationWarning: Auto-removal of grids by pcolor() and pcolormesh() is deprecated since 3.5 and will be removed two minor releases later; please call grid(False) first.\n"
     ]
    },
    {
     "name": "stdout",
     "output_type": "stream",
     "text": [
      "writing Iterative Accumulation Raster to Z:\\LWI_StageIV\\test\\cropped\\iterate\\ST4.2005082010.01h.tif\n"
     ]
    },
    {
     "name": "stderr",
     "output_type": "stream",
     "text": [
      "C:\\Tools\\Anaconda3\\envs\\py37\\lib\\site-packages\\ipykernel_launcher.py:19: MatplotlibDeprecationWarning: Auto-removal of grids by pcolor() and pcolormesh() is deprecated since 3.5 and will be removed two minor releases later; please call grid(False) first.\n"
     ]
    },
    {
     "name": "stdout",
     "output_type": "stream",
     "text": [
      "writing Iterative Accumulation Raster to Z:\\LWI_StageIV\\test\\cropped\\iterate\\ST4.2005082011.01h.tif\n"
     ]
    },
    {
     "name": "stderr",
     "output_type": "stream",
     "text": [
      "C:\\Tools\\Anaconda3\\envs\\py37\\lib\\site-packages\\ipykernel_launcher.py:19: MatplotlibDeprecationWarning: Auto-removal of grids by pcolor() and pcolormesh() is deprecated since 3.5 and will be removed two minor releases later; please call grid(False) first.\n"
     ]
    },
    {
     "name": "stdout",
     "output_type": "stream",
     "text": [
      "writing Iterative Accumulation Raster to Z:\\LWI_StageIV\\test\\cropped\\iterate\\ST4.2005082012.01h.tif\n"
     ]
    },
    {
     "name": "stderr",
     "output_type": "stream",
     "text": [
      "C:\\Tools\\Anaconda3\\envs\\py37\\lib\\site-packages\\ipykernel_launcher.py:19: MatplotlibDeprecationWarning: Auto-removal of grids by pcolor() and pcolormesh() is deprecated since 3.5 and will be removed two minor releases later; please call grid(False) first.\n"
     ]
    },
    {
     "name": "stdout",
     "output_type": "stream",
     "text": [
      "writing Iterative Accumulation Raster to Z:\\LWI_StageIV\\test\\cropped\\iterate\\ST4.2005082013.01h.tif\n"
     ]
    },
    {
     "name": "stderr",
     "output_type": "stream",
     "text": [
      "C:\\Tools\\Anaconda3\\envs\\py37\\lib\\site-packages\\ipykernel_launcher.py:19: MatplotlibDeprecationWarning: Auto-removal of grids by pcolor() and pcolormesh() is deprecated since 3.5 and will be removed two minor releases later; please call grid(False) first.\n"
     ]
    },
    {
     "name": "stdout",
     "output_type": "stream",
     "text": [
      "writing Iterative Accumulation Raster to Z:\\LWI_StageIV\\test\\cropped\\iterate\\ST4.2005082014.01h.tif\n"
     ]
    },
    {
     "name": "stderr",
     "output_type": "stream",
     "text": [
      "C:\\Tools\\Anaconda3\\envs\\py37\\lib\\site-packages\\ipykernel_launcher.py:19: MatplotlibDeprecationWarning: Auto-removal of grids by pcolor() and pcolormesh() is deprecated since 3.5 and will be removed two minor releases later; please call grid(False) first.\n"
     ]
    },
    {
     "name": "stdout",
     "output_type": "stream",
     "text": [
      "writing Iterative Accumulation Raster to Z:\\LWI_StageIV\\test\\cropped\\iterate\\ST4.2005082015.01h.tif\n"
     ]
    },
    {
     "name": "stderr",
     "output_type": "stream",
     "text": [
      "C:\\Tools\\Anaconda3\\envs\\py37\\lib\\site-packages\\ipykernel_launcher.py:19: MatplotlibDeprecationWarning: Auto-removal of grids by pcolor() and pcolormesh() is deprecated since 3.5 and will be removed two minor releases later; please call grid(False) first.\n"
     ]
    },
    {
     "name": "stdout",
     "output_type": "stream",
     "text": [
      "writing Iterative Accumulation Raster to Z:\\LWI_StageIV\\test\\cropped\\iterate\\ST4.2005082016.01h.tif\n"
     ]
    },
    {
     "name": "stderr",
     "output_type": "stream",
     "text": [
      "C:\\Tools\\Anaconda3\\envs\\py37\\lib\\site-packages\\ipykernel_launcher.py:19: MatplotlibDeprecationWarning: Auto-removal of grids by pcolor() and pcolormesh() is deprecated since 3.5 and will be removed two minor releases later; please call grid(False) first.\n"
     ]
    },
    {
     "name": "stdout",
     "output_type": "stream",
     "text": [
      "writing Iterative Accumulation Raster to Z:\\LWI_StageIV\\test\\cropped\\iterate\\ST4.2005082017.01h.tif\n"
     ]
    },
    {
     "name": "stderr",
     "output_type": "stream",
     "text": [
      "C:\\Tools\\Anaconda3\\envs\\py37\\lib\\site-packages\\ipykernel_launcher.py:19: MatplotlibDeprecationWarning: Auto-removal of grids by pcolor() and pcolormesh() is deprecated since 3.5 and will be removed two minor releases later; please call grid(False) first.\n"
     ]
    },
    {
     "name": "stdout",
     "output_type": "stream",
     "text": [
      "writing Iterative Accumulation Raster to Z:\\LWI_StageIV\\test\\cropped\\iterate\\ST4.2005082018.01h.tif\n"
     ]
    },
    {
     "name": "stderr",
     "output_type": "stream",
     "text": [
      "C:\\Tools\\Anaconda3\\envs\\py37\\lib\\site-packages\\ipykernel_launcher.py:19: MatplotlibDeprecationWarning: Auto-removal of grids by pcolor() and pcolormesh() is deprecated since 3.5 and will be removed two minor releases later; please call grid(False) first.\n"
     ]
    },
    {
     "name": "stdout",
     "output_type": "stream",
     "text": [
      "writing Iterative Accumulation Raster to Z:\\LWI_StageIV\\test\\cropped\\iterate\\ST4.2005082019.01h.tif\n"
     ]
    },
    {
     "name": "stderr",
     "output_type": "stream",
     "text": [
      "C:\\Tools\\Anaconda3\\envs\\py37\\lib\\site-packages\\ipykernel_launcher.py:19: MatplotlibDeprecationWarning: Auto-removal of grids by pcolor() and pcolormesh() is deprecated since 3.5 and will be removed two minor releases later; please call grid(False) first.\n"
     ]
    },
    {
     "name": "stdout",
     "output_type": "stream",
     "text": [
      "writing Iterative Accumulation Raster to Z:\\LWI_StageIV\\test\\cropped\\iterate\\ST4.2005082020.01h.tif\n"
     ]
    },
    {
     "name": "stderr",
     "output_type": "stream",
     "text": [
      "C:\\Tools\\Anaconda3\\envs\\py37\\lib\\site-packages\\ipykernel_launcher.py:19: MatplotlibDeprecationWarning: Auto-removal of grids by pcolor() and pcolormesh() is deprecated since 3.5 and will be removed two minor releases later; please call grid(False) first.\n"
     ]
    },
    {
     "name": "stdout",
     "output_type": "stream",
     "text": [
      "writing Iterative Accumulation Raster to Z:\\LWI_StageIV\\test\\cropped\\iterate\\ST4.2005082021.01h.tif\n"
     ]
    },
    {
     "name": "stderr",
     "output_type": "stream",
     "text": [
      "C:\\Tools\\Anaconda3\\envs\\py37\\lib\\site-packages\\ipykernel_launcher.py:19: MatplotlibDeprecationWarning: Auto-removal of grids by pcolor() and pcolormesh() is deprecated since 3.5 and will be removed two minor releases later; please call grid(False) first.\n"
     ]
    },
    {
     "name": "stdout",
     "output_type": "stream",
     "text": [
      "writing Iterative Accumulation Raster to Z:\\LWI_StageIV\\test\\cropped\\iterate\\ST4.2005082022.01h.tif\n"
     ]
    },
    {
     "name": "stderr",
     "output_type": "stream",
     "text": [
      "C:\\Tools\\Anaconda3\\envs\\py37\\lib\\site-packages\\ipykernel_launcher.py:19: MatplotlibDeprecationWarning: Auto-removal of grids by pcolor() and pcolormesh() is deprecated since 3.5 and will be removed two minor releases later; please call grid(False) first.\n"
     ]
    },
    {
     "name": "stdout",
     "output_type": "stream",
     "text": [
      "writing Iterative Accumulation Raster to Z:\\LWI_StageIV\\test\\cropped\\iterate\\ST4.2005082023.01h.tif\n"
     ]
    },
    {
     "name": "stderr",
     "output_type": "stream",
     "text": [
      "C:\\Tools\\Anaconda3\\envs\\py37\\lib\\site-packages\\ipykernel_launcher.py:19: MatplotlibDeprecationWarning: Auto-removal of grids by pcolor() and pcolormesh() is deprecated since 3.5 and will be removed two minor releases later; please call grid(False) first.\n"
     ]
    },
    {
     "name": "stdout",
     "output_type": "stream",
     "text": [
      "writing Iterative Accumulation Raster to Z:\\LWI_StageIV\\test\\cropped\\iterate\\ST4.2005082100.01h.tif\n"
     ]
    },
    {
     "name": "stderr",
     "output_type": "stream",
     "text": [
      "C:\\Tools\\Anaconda3\\envs\\py37\\lib\\site-packages\\ipykernel_launcher.py:19: MatplotlibDeprecationWarning: Auto-removal of grids by pcolor() and pcolormesh() is deprecated since 3.5 and will be removed two minor releases later; please call grid(False) first.\n"
     ]
    },
    {
     "name": "stdout",
     "output_type": "stream",
     "text": [
      "writing Iterative Accumulation Raster to Z:\\LWI_StageIV\\test\\cropped\\iterate\\ST4.2005082101.01h.tif\n"
     ]
    },
    {
     "name": "stderr",
     "output_type": "stream",
     "text": [
      "C:\\Tools\\Anaconda3\\envs\\py37\\lib\\site-packages\\ipykernel_launcher.py:19: MatplotlibDeprecationWarning: Auto-removal of grids by pcolor() and pcolormesh() is deprecated since 3.5 and will be removed two minor releases later; please call grid(False) first.\n"
     ]
    },
    {
     "name": "stdout",
     "output_type": "stream",
     "text": [
      "writing Iterative Accumulation Raster to Z:\\LWI_StageIV\\test\\cropped\\iterate\\ST4.2005082102.01h.tif\n"
     ]
    },
    {
     "name": "stderr",
     "output_type": "stream",
     "text": [
      "C:\\Tools\\Anaconda3\\envs\\py37\\lib\\site-packages\\ipykernel_launcher.py:19: MatplotlibDeprecationWarning: Auto-removal of grids by pcolor() and pcolormesh() is deprecated since 3.5 and will be removed two minor releases later; please call grid(False) first.\n"
     ]
    },
    {
     "name": "stdout",
     "output_type": "stream",
     "text": [
      "writing Iterative Accumulation Raster to Z:\\LWI_StageIV\\test\\cropped\\iterate\\ST4.2005082103.01h.tif\n"
     ]
    },
    {
     "name": "stderr",
     "output_type": "stream",
     "text": [
      "C:\\Tools\\Anaconda3\\envs\\py37\\lib\\site-packages\\ipykernel_launcher.py:19: MatplotlibDeprecationWarning: Auto-removal of grids by pcolor() and pcolormesh() is deprecated since 3.5 and will be removed two minor releases later; please call grid(False) first.\n"
     ]
    },
    {
     "name": "stdout",
     "output_type": "stream",
     "text": [
      "writing Iterative Accumulation Raster to Z:\\LWI_StageIV\\test\\cropped\\iterate\\ST4.2005082104.01h.tif\n"
     ]
    },
    {
     "name": "stderr",
     "output_type": "stream",
     "text": [
      "C:\\Tools\\Anaconda3\\envs\\py37\\lib\\site-packages\\ipykernel_launcher.py:19: MatplotlibDeprecationWarning: Auto-removal of grids by pcolor() and pcolormesh() is deprecated since 3.5 and will be removed two minor releases later; please call grid(False) first.\n"
     ]
    },
    {
     "name": "stdout",
     "output_type": "stream",
     "text": [
      "writing Iterative Accumulation Raster to Z:\\LWI_StageIV\\test\\cropped\\iterate\\ST4.2005082105.01h.tif\n"
     ]
    },
    {
     "name": "stderr",
     "output_type": "stream",
     "text": [
      "C:\\Tools\\Anaconda3\\envs\\py37\\lib\\site-packages\\ipykernel_launcher.py:19: MatplotlibDeprecationWarning: Auto-removal of grids by pcolor() and pcolormesh() is deprecated since 3.5 and will be removed two minor releases later; please call grid(False) first.\n"
     ]
    },
    {
     "name": "stdout",
     "output_type": "stream",
     "text": [
      "writing Iterative Accumulation Raster to Z:\\LWI_StageIV\\test\\cropped\\iterate\\ST4.2005082106.01h.tif\n"
     ]
    },
    {
     "name": "stderr",
     "output_type": "stream",
     "text": [
      "C:\\Tools\\Anaconda3\\envs\\py37\\lib\\site-packages\\ipykernel_launcher.py:19: MatplotlibDeprecationWarning: Auto-removal of grids by pcolor() and pcolormesh() is deprecated since 3.5 and will be removed two minor releases later; please call grid(False) first.\n"
     ]
    },
    {
     "name": "stdout",
     "output_type": "stream",
     "text": [
      "writing Iterative Accumulation Raster to Z:\\LWI_StageIV\\test\\cropped\\iterate\\ST4.2005082107.01h.tif\n"
     ]
    },
    {
     "name": "stderr",
     "output_type": "stream",
     "text": [
      "C:\\Tools\\Anaconda3\\envs\\py37\\lib\\site-packages\\ipykernel_launcher.py:19: MatplotlibDeprecationWarning: Auto-removal of grids by pcolor() and pcolormesh() is deprecated since 3.5 and will be removed two minor releases later; please call grid(False) first.\n"
     ]
    },
    {
     "name": "stdout",
     "output_type": "stream",
     "text": [
      "writing Iterative Accumulation Raster to Z:\\LWI_StageIV\\test\\cropped\\iterate\\ST4.2005082108.01h.tif\n"
     ]
    },
    {
     "name": "stderr",
     "output_type": "stream",
     "text": [
      "C:\\Tools\\Anaconda3\\envs\\py37\\lib\\site-packages\\ipykernel_launcher.py:19: MatplotlibDeprecationWarning: Auto-removal of grids by pcolor() and pcolormesh() is deprecated since 3.5 and will be removed two minor releases later; please call grid(False) first.\n"
     ]
    },
    {
     "name": "stdout",
     "output_type": "stream",
     "text": [
      "writing Iterative Accumulation Raster to Z:\\LWI_StageIV\\test\\cropped\\iterate\\ST4.2005082109.01h.tif\n"
     ]
    },
    {
     "name": "stderr",
     "output_type": "stream",
     "text": [
      "C:\\Tools\\Anaconda3\\envs\\py37\\lib\\site-packages\\ipykernel_launcher.py:19: MatplotlibDeprecationWarning: Auto-removal of grids by pcolor() and pcolormesh() is deprecated since 3.5 and will be removed two minor releases later; please call grid(False) first.\n"
     ]
    },
    {
     "name": "stdout",
     "output_type": "stream",
     "text": [
      "writing Iterative Accumulation Raster to Z:\\LWI_StageIV\\test\\cropped\\iterate\\ST4.2005082110.01h.tif\n"
     ]
    },
    {
     "name": "stderr",
     "output_type": "stream",
     "text": [
      "C:\\Tools\\Anaconda3\\envs\\py37\\lib\\site-packages\\ipykernel_launcher.py:19: MatplotlibDeprecationWarning: Auto-removal of grids by pcolor() and pcolormesh() is deprecated since 3.5 and will be removed two minor releases later; please call grid(False) first.\n"
     ]
    },
    {
     "name": "stdout",
     "output_type": "stream",
     "text": [
      "writing Iterative Accumulation Raster to Z:\\LWI_StageIV\\test\\cropped\\iterate\\ST4.2005082111.01h.tif\n"
     ]
    },
    {
     "name": "stderr",
     "output_type": "stream",
     "text": [
      "C:\\Tools\\Anaconda3\\envs\\py37\\lib\\site-packages\\ipykernel_launcher.py:19: MatplotlibDeprecationWarning: Auto-removal of grids by pcolor() and pcolormesh() is deprecated since 3.5 and will be removed two minor releases later; please call grid(False) first.\n"
     ]
    },
    {
     "name": "stdout",
     "output_type": "stream",
     "text": [
      "writing Iterative Accumulation Raster to Z:\\LWI_StageIV\\test\\cropped\\iterate\\ST4.2005082112.01h.tif\n"
     ]
    },
    {
     "name": "stderr",
     "output_type": "stream",
     "text": [
      "C:\\Tools\\Anaconda3\\envs\\py37\\lib\\site-packages\\ipykernel_launcher.py:19: MatplotlibDeprecationWarning: Auto-removal of grids by pcolor() and pcolormesh() is deprecated since 3.5 and will be removed two minor releases later; please call grid(False) first.\n"
     ]
    },
    {
     "name": "stdout",
     "output_type": "stream",
     "text": [
      "writing Iterative Accumulation Raster to Z:\\LWI_StageIV\\test\\cropped\\iterate\\ST4.2005082113.01h.tif\n"
     ]
    },
    {
     "name": "stderr",
     "output_type": "stream",
     "text": [
      "C:\\Tools\\Anaconda3\\envs\\py37\\lib\\site-packages\\ipykernel_launcher.py:19: MatplotlibDeprecationWarning: Auto-removal of grids by pcolor() and pcolormesh() is deprecated since 3.5 and will be removed two minor releases later; please call grid(False) first.\n"
     ]
    },
    {
     "name": "stdout",
     "output_type": "stream",
     "text": [
      "writing Iterative Accumulation Raster to Z:\\LWI_StageIV\\test\\cropped\\iterate\\ST4.2005082114.01h.tif\n"
     ]
    },
    {
     "name": "stderr",
     "output_type": "stream",
     "text": [
      "C:\\Tools\\Anaconda3\\envs\\py37\\lib\\site-packages\\ipykernel_launcher.py:19: MatplotlibDeprecationWarning: Auto-removal of grids by pcolor() and pcolormesh() is deprecated since 3.5 and will be removed two minor releases later; please call grid(False) first.\n"
     ]
    },
    {
     "name": "stdout",
     "output_type": "stream",
     "text": [
      "writing Iterative Accumulation Raster to Z:\\LWI_StageIV\\test\\cropped\\iterate\\ST4.2005082115.01h.tif\n"
     ]
    },
    {
     "name": "stderr",
     "output_type": "stream",
     "text": [
      "C:\\Tools\\Anaconda3\\envs\\py37\\lib\\site-packages\\ipykernel_launcher.py:19: MatplotlibDeprecationWarning: Auto-removal of grids by pcolor() and pcolormesh() is deprecated since 3.5 and will be removed two minor releases later; please call grid(False) first.\n"
     ]
    },
    {
     "name": "stdout",
     "output_type": "stream",
     "text": [
      "writing Iterative Accumulation Raster to Z:\\LWI_StageIV\\test\\cropped\\iterate\\ST4.2005082116.01h.tif\n"
     ]
    },
    {
     "name": "stderr",
     "output_type": "stream",
     "text": [
      "C:\\Tools\\Anaconda3\\envs\\py37\\lib\\site-packages\\ipykernel_launcher.py:19: MatplotlibDeprecationWarning: Auto-removal of grids by pcolor() and pcolormesh() is deprecated since 3.5 and will be removed two minor releases later; please call grid(False) first.\n"
     ]
    },
    {
     "name": "stdout",
     "output_type": "stream",
     "text": [
      "writing Iterative Accumulation Raster to Z:\\LWI_StageIV\\test\\cropped\\iterate\\ST4.2005082117.01h.tif\n"
     ]
    },
    {
     "name": "stderr",
     "output_type": "stream",
     "text": [
      "C:\\Tools\\Anaconda3\\envs\\py37\\lib\\site-packages\\ipykernel_launcher.py:19: MatplotlibDeprecationWarning: Auto-removal of grids by pcolor() and pcolormesh() is deprecated since 3.5 and will be removed two minor releases later; please call grid(False) first.\n"
     ]
    },
    {
     "name": "stdout",
     "output_type": "stream",
     "text": [
      "writing Iterative Accumulation Raster to Z:\\LWI_StageIV\\test\\cropped\\iterate\\ST4.2005082118.01h.tif\n"
     ]
    },
    {
     "name": "stderr",
     "output_type": "stream",
     "text": [
      "C:\\Tools\\Anaconda3\\envs\\py37\\lib\\site-packages\\ipykernel_launcher.py:19: MatplotlibDeprecationWarning: Auto-removal of grids by pcolor() and pcolormesh() is deprecated since 3.5 and will be removed two minor releases later; please call grid(False) first.\n"
     ]
    },
    {
     "name": "stdout",
     "output_type": "stream",
     "text": [
      "writing Iterative Accumulation Raster to Z:\\LWI_StageIV\\test\\cropped\\iterate\\ST4.2005082119.01h.tif\n"
     ]
    },
    {
     "name": "stderr",
     "output_type": "stream",
     "text": [
      "C:\\Tools\\Anaconda3\\envs\\py37\\lib\\site-packages\\ipykernel_launcher.py:19: MatplotlibDeprecationWarning: Auto-removal of grids by pcolor() and pcolormesh() is deprecated since 3.5 and will be removed two minor releases later; please call grid(False) first.\n"
     ]
    },
    {
     "name": "stdout",
     "output_type": "stream",
     "text": [
      "writing Iterative Accumulation Raster to Z:\\LWI_StageIV\\test\\cropped\\iterate\\ST4.2005082120.01h.tif\n"
     ]
    },
    {
     "name": "stderr",
     "output_type": "stream",
     "text": [
      "C:\\Tools\\Anaconda3\\envs\\py37\\lib\\site-packages\\ipykernel_launcher.py:19: MatplotlibDeprecationWarning: Auto-removal of grids by pcolor() and pcolormesh() is deprecated since 3.5 and will be removed two minor releases later; please call grid(False) first.\n"
     ]
    },
    {
     "name": "stdout",
     "output_type": "stream",
     "text": [
      "writing Iterative Accumulation Raster to Z:\\LWI_StageIV\\test\\cropped\\iterate\\ST4.2005082121.01h.tif\n"
     ]
    },
    {
     "name": "stderr",
     "output_type": "stream",
     "text": [
      "C:\\Tools\\Anaconda3\\envs\\py37\\lib\\site-packages\\ipykernel_launcher.py:19: MatplotlibDeprecationWarning: Auto-removal of grids by pcolor() and pcolormesh() is deprecated since 3.5 and will be removed two minor releases later; please call grid(False) first.\n"
     ]
    },
    {
     "name": "stdout",
     "output_type": "stream",
     "text": [
      "writing Iterative Accumulation Raster to Z:\\LWI_StageIV\\test\\cropped\\iterate\\ST4.2005082122.01h.tif\n"
     ]
    },
    {
     "name": "stderr",
     "output_type": "stream",
     "text": [
      "C:\\Tools\\Anaconda3\\envs\\py37\\lib\\site-packages\\ipykernel_launcher.py:19: MatplotlibDeprecationWarning: Auto-removal of grids by pcolor() and pcolormesh() is deprecated since 3.5 and will be removed two minor releases later; please call grid(False) first.\n"
     ]
    },
    {
     "name": "stdout",
     "output_type": "stream",
     "text": [
      "writing Iterative Accumulation Raster to Z:\\LWI_StageIV\\test\\cropped\\iterate\\ST4.2005082123.01h.tif\n"
     ]
    },
    {
     "name": "stderr",
     "output_type": "stream",
     "text": [
      "C:\\Tools\\Anaconda3\\envs\\py37\\lib\\site-packages\\ipykernel_launcher.py:19: MatplotlibDeprecationWarning: Auto-removal of grids by pcolor() and pcolormesh() is deprecated since 3.5 and will be removed two minor releases later; please call grid(False) first.\n"
     ]
    },
    {
     "name": "stdout",
     "output_type": "stream",
     "text": [
      "writing Iterative Accumulation Raster to Z:\\LWI_StageIV\\test\\cropped\\iterate\\ST4.2005082200.01h.tif\n"
     ]
    },
    {
     "name": "stderr",
     "output_type": "stream",
     "text": [
      "C:\\Tools\\Anaconda3\\envs\\py37\\lib\\site-packages\\ipykernel_launcher.py:19: MatplotlibDeprecationWarning: Auto-removal of grids by pcolor() and pcolormesh() is deprecated since 3.5 and will be removed two minor releases later; please call grid(False) first.\n"
     ]
    }
   ],
   "source": [
    "#Get max accumulated cropped raster value.\n",
    "stats = rasterstats.zonal_stats(crop_shp, accumRaster, stats=['max'])\n",
    "bigMax = stats[0]['max']\n",
    "#  Get all files with extension .01h (the default pattern for uncompressed 1hr precip data from UCAR EOL).\n",
    "# Script is not accounting for potential naming patterns for AK and PR.\n",
    "merge_dir=[]\n",
    "for filename in fnmatch.filter(os.listdir(input_dir),'*.01h'): \n",
    "    merge_dir.append((os.path.join(input_dir, filename)))\n",
    "\n",
    "merge_dir.sort()\n",
    "\n",
    "with rasterio.open(merge_dir[0]) as src:\n",
    "        profile=src.profile\n",
    "firstRasterTitle = merge_dir[0].split('\\\\')[-1]\n",
    "hours = 0\n",
    "map2array=[]\n",
    "for raster in merge_dir:\n",
    "    hours += 1\n",
    "    outputFilename = raster.split('\\\\')[-1]\n",
    "    title = f\"{firstRasterTitle} to {outputFilename} Cumulative Precip (mm) {hours} (hr)\"\n",
    "    # print(f'adding {raster} to dask array list: map2array')\n",
    "    src = rasterio.open(raster)\n",
    "    array = src.read(1)\n",
    "    # array = crop_raster(src, crop_shp)\n",
    "    array[array==0] = np.nan    \n",
    "    array[array==9999] = np.nan\n",
    "    map2array.append(da.from_array(array, chunks=array.shape))\n",
    "    if len(map2array) == 1:\n",
    "        # First array element, dont accumulate.\n",
    "        # Output Image\n",
    "        sns.set_style(\"white\")\n",
    "        sns.set(font_scale=1.5)\n",
    "        # Check whether the image and projection paths exists.\n",
    "        # Create a new directory if not isExists.\n",
    "        isExist_out = os.path.exists(output_dir)\n",
    "        if not isExist_out:\n",
    "            os.makedirs(output_dir)\n",
    "        isExist_img = os.path.exists(img_dir)\n",
    "        if not isExist_img:\n",
    "            os.makedirs(img_dir)\n",
    "        # Crop projected_raster\n",
    "        # array = crop_raster(src, crop_shp)\n",
    "        # Create and save Image\n",
    "        create_image(array, title, img_dir, crop_shp, la_shp, bigMax)\n",
    "    else: \n",
    "        # Accumulate and save Iterative Raster.\n",
    "        ds_stack = da.stack(map2array)\n",
    "        print (f'writing Iterative Accumulation Raster to {output_dir}\\\\{outputFilename}.tif')\n",
    "        write_raster(f'{output_dir}\\\\{outputFilename}-accum.tif', da.nansum(ds_stack,0), **profile)\n",
    "        # Crop Raster\n",
    "        src_accum = rasterio.open(f'{output_dir}\\\\{outputFilename}-accum.tif')\n",
    "        # array_accum = crop_raster(src_accum, crop_shp)\n",
    "        array_accum = src_accum.read(1)\n",
    "        array_accum[array_accum==0] = np.nan    \n",
    "        array_accum[array_accum==9999] = np.nan\n",
    "        # Create and Save Image\n",
    "        create_image(array_accum, title, img_dir, crop_shp, la_shp, bigMax)\n",
    "        # Empty Array\n",
    "        map2array = []\n",
    "        # Add the new iterative accumulation raster to first element of the array.\n",
    "        map2array.append(da.from_array(array_accum, chunks=array_accum.shape))\n",
    "        # The next iteration of the 'for raster in merge_dir:' loop will add the second element to make the next iterative accumulation.\n",
    "        \n",
    "        "
   ]
  },
  {
   "cell_type": "code",
   "execution_count": 13,
   "metadata": {},
   "outputs": [
    {
     "name": "stdout",
     "output_type": "stream",
     "text": [
      "Creating gif movie: Z:\\LWI_StageIV\\!Accumulated\\test-accum.gif\n",
      "<----- Done. ----->\n",
      "\n"
     ]
    }
   ],
   "source": [
    "# Create Movie\n",
    "print (f'Creating gif movie: {movieFilename}')\n",
    "imgList=[]\n",
    "for img_file in fnmatch.filter(os.listdir(img_dir),'*.png'): \n",
    "    imgList.append((os.path.join(img_dir, img_file)))\n",
    "imgList.sort()\n",
    "\n",
    "imagesArray = []\n",
    "for imageFile in imgList:\n",
    "    # print(f'adding {imageFile} to imagesArray.')\n",
    "    imagesArray.append(imageio.imread(imageFile))\n",
    "imageio.mimsave(movieFilename, imagesArray, duration=0.1)\n",
    "print ('<----- Done. ----->\\n')"
   ]
  }
 ],
 "metadata": {
  "interpreter": {
   "hash": "2f15906461ed2c6aeb3fb67f9bbf1f25da63cbe086a900344370033aca09f5b0"
  },
  "kernelspec": {
   "display_name": "Python 3.7.12 64-bit ('py37': conda)",
   "language": "python",
   "name": "python3"
  },
  "language_info": {
   "codemirror_mode": {
    "name": "ipython",
    "version": 3
   },
   "file_extension": ".py",
   "mimetype": "text/x-python",
   "name": "python",
   "nbconvert_exporter": "python",
   "pygments_lexer": "ipython3",
   "version": "3.7.12"
  },
  "orig_nbformat": 4
 },
 "nbformat": 4,
 "nbformat_minor": 2
}
